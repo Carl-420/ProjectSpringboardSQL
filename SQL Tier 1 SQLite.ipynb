{
 "cells": [
  {
   "cell_type": "code",
   "execution_count": 1,
   "id": "947ccdb2",
   "metadata": {},
   "outputs": [
    {
     "name": "stdout",
     "output_type": "stream",
     "text": [
      "2.6.0\n",
      "2. Query all tasks\n",
      "(0, 'Tennis Court 1', 5, 25, 10000, 200)\n",
      "(1, 'Tennis Court 2', 5, 25, 8000, 200)\n",
      "(2, 'Badminton Court', 0, 15.5, 4000, 50)\n",
      "(3, 'Table Tennis', 0, 5, 320, 10)\n",
      "(4, 'Massage Room 1', 9.9, 80, 4000, 3000)\n",
      "(5, 'Massage Room 2', 9.9, 80, 4000, 3000)\n",
      "(6, 'Squash Court', 3.5, 17.5, 5000, 80)\n",
      "(7, 'Snooker Table', 0, 5, 450, 15)\n",
      "(8, 'Pool Table', 0, 5, 400, 15)\n"
     ]
    }
   ],
   "source": [
    "import sqlite3\n",
    "from sqlite3 import Error\n",
    "\n",
    " \n",
    "def create_connection(db_file):\n",
    "    \"\"\" create a database connection to the SQLite database\n",
    "        specified by the db_file\n",
    "    :param db_file: database file\n",
    "    :return: Connection object or None\n",
    "    \"\"\"\n",
    "    conn = None\n",
    "    try:\n",
    "        conn = sqlite3.connect(db_file)\n",
    "        print(sqlite3.version)\n",
    "    except Error as e:\n",
    "        print(e)\n",
    " \n",
    "    return conn\n",
    "\n",
    " \n",
    "def select_all_tasks(conn):\n",
    "    \"\"\"\n",
    "    Query all rows in the tasks table\n",
    "    :param conn: the Connection object\n",
    "    :return:\n",
    "    \"\"\"\n",
    "    cur = conn.cursor()\n",
    "    \n",
    "    query1 = \"\"\"\n",
    "        SELECT *\n",
    "        FROM FACILITIES\n",
    "        \"\"\"\n",
    "    cur.execute(query1)\n",
    " \n",
    "    rows = cur.fetchall()\n",
    " \n",
    "    for row in rows:\n",
    "        print(row)\n",
    "\n",
    "\n",
    "def main():\n",
    "    database = \"sqlite_db_pythonsqlite.db\"\n",
    " \n",
    "    # create a database connection\n",
    "    conn = create_connection(database)\n",
    "    with conn: \n",
    "        print(\"2. Query all tasks\")\n",
    "        select_all_tasks(conn)\n",
    " \n",
    " \n",
    "if __name__ == '__main__':\n",
    "    main()"
   ]
  },
  {
   "cell_type": "code",
   "execution_count": 3,
   "id": "52fa4c45",
   "metadata": {},
   "outputs": [],
   "source": [
    "from sqlalchemy import create_engine, text\n",
    "import pandas as pd"
   ]
  },
  {
   "cell_type": "code",
   "execution_count": 4,
   "id": "9f36221b",
   "metadata": {},
   "outputs": [
    {
     "name": "stdout",
     "output_type": "stream",
     "text": [
      "            name  Revenue\n",
      "0   Table Tennis      180\n",
      "1  Snooker Table      240\n",
      "2     Pool Table      270\n"
     ]
    }
   ],
   "source": [
    "#Q10\n",
    "engine = create_engine('sqlite:///sqlite_db_pythonsqlite.db')\n",
    "\n",
    "with engine.connect() as con:\n",
    "    query = text(\"\"\"\n",
    "    SELECT Facilities.name, \n",
    "           SUM(CASE \n",
    "               WHEN Bookings.memid = 0 THEN Bookings.slots * Facilities.guestcost \n",
    "               ELSE Bookings.slots * Facilities.membercost \n",
    "           END) AS Revenue \n",
    "    FROM Facilities \n",
    "    JOIN Bookings ON Facilities.facid = Bookings.facid \n",
    "    GROUP BY Facilities.name \n",
    "    HAVING Revenue < 1000 \n",
    "    ORDER BY Revenue;\n",
    "    \"\"\")\n",
    "\n",
    "    rs = con.execute(query)\n",
    "    df = pd.DataFrame(rs.fetchall())\n",
    "    df.columns = rs.keys()\n",
    "    print(df)"
   ]
  },
  {
   "cell_type": "code",
   "execution_count": 5,
   "id": "40b97806",
   "metadata": {},
   "outputs": [
    {
     "name": "stdout",
     "output_type": "stream",
     "text": [
      "     Facility_Name  Total_Member_Slots\n",
      "0  Badminton Court                1086\n",
      "1   Tennis Court 1                 957\n",
      "2   Massage Room 1                 884\n",
      "3   Tennis Court 2                 882\n",
      "4    Snooker Table                 860\n",
      "5       Pool Table                 856\n",
      "6     Table Tennis                 794\n",
      "7     Squash Court                 418\n",
      "8   Massage Room 2                  54\n"
     ]
    }
   ],
   "source": [
    "#Q11\n",
    "with engine.connect() as con:\n",
    "    query = text(\"\"\"\n",
    "    SELECT f.name AS Facility_Name, \n",
    "           SUM(b.slots) AS Total_Member_Slots\n",
    "    FROM Facilities AS f\n",
    "    JOIN Bookings AS b ON f.facid = b.facid\n",
    "    WHERE b.memid != 0\n",
    "    GROUP BY f.name\n",
    "    ORDER BY Total_Member_Slots DESC;\n",
    "    \"\"\")\n",
    "\n",
    "    rs = con.execute(query)\n",
    "    df = pd.DataFrame(rs.fetchall())\n",
    "    df.columns = rs.keys()\n",
    "    print(df)"
   ]
  },
  {
   "cell_type": "code",
   "execution_count": 7,
   "id": "0975ff94",
   "metadata": {},
   "outputs": [
    {
     "name": "stdout",
     "output_type": "stream",
     "text": [
      "     Facility_Name  Total_Member_Slots\n",
      "0  Badminton Court                1086\n",
      "1   Tennis Court 1                 957\n",
      "2   Massage Room 1                 884\n",
      "3   Tennis Court 2                 882\n",
      "4    Snooker Table                 860\n",
      "5       Pool Table                 856\n",
      "6     Table Tennis                 794\n",
      "7     Squash Court                 418\n",
      "8   Massage Room 2                  54\n"
     ]
    }
   ],
   "source": [
    "#Q12\n",
    "with engine.connect() as con:\n",
    "    query = text(\"\"\"\n",
    "    SELECT f.name AS Facility_Name, \n",
    "           SUM(b.slots) AS Total_Member_Slots\n",
    "    FROM Facilities AS f\n",
    "    JOIN Bookings AS b ON f.facid = b.facid\n",
    "    WHERE b.memid != 0\n",
    "    GROUP BY f.name\n",
    "    ORDER BY Total_Member_Slots DESC;\n",
    "    \"\"\")\n",
    "\n",
    "    rs = con.execute(query)\n",
    "    df = pd.DataFrame(rs.fetchall())\n",
    "    df.columns = rs.keys()\n",
    "    print(df)"
   ]
  },
  {
   "cell_type": "code",
   "execution_count": 8,
   "id": "661947f2",
   "metadata": {},
   "outputs": [
    {
     "name": "stdout",
     "output_type": "stream",
     "text": [
      "          month    facility_name  total_slots\n",
      "0    2012-09-30  Badminton Court           24\n",
      "1    2012-09-30   Massage Room 1           14\n",
      "2    2012-09-30       Pool Table           18\n",
      "3    2012-09-30    Snooker Table           14\n",
      "4    2012-09-30     Squash Court            6\n",
      "..          ...              ...          ...\n",
      "702  2012-07-04   Tennis Court 1            6\n",
      "703  2012-07-03   Massage Room 1            2\n",
      "704  2012-07-03       Pool Table            2\n",
      "705  2012-07-03    Snooker Table            2\n",
      "706  2012-07-03     Table Tennis            2\n",
      "\n",
      "[707 rows x 3 columns]\n"
     ]
    }
   ],
   "source": [
    "with engine.connect() as con:\n",
    "    query = text(\"\"\"\n",
    "    SELECT \n",
    "    DATE(starttime) AS month,\n",
    "    Facilities.name AS facility_name,\n",
    "    SUM(slots) AS total_slots\n",
    "FROM \n",
    "    Bookings\n",
    "JOIN \n",
    "    Facilities ON Bookings.facid = Facilities.facid\n",
    "WHERE \n",
    "    memid != 0\n",
    "GROUP BY \n",
    "    month, facility_name\n",
    "ORDER BY \n",
    "    month DESC, facility_name;\n",
    "    \"\"\")\n",
    "\n",
    "    rs = con.execute(query)\n",
    "    df = pd.DataFrame(rs.fetchall())\n",
    "    df.columns = rs.keys()\n",
    "    print(df)"
   ]
  },
  {
   "cell_type": "code",
   "execution_count": null,
   "id": "92a55b24",
   "metadata": {},
   "outputs": [],
   "source": []
  }
 ],
 "metadata": {
  "kernelspec": {
   "display_name": "Python 3 (ipykernel)",
   "language": "python",
   "name": "python3"
  },
  "language_info": {
   "codemirror_mode": {
    "name": "ipython",
    "version": 3
   },
   "file_extension": ".py",
   "mimetype": "text/x-python",
   "name": "python",
   "nbconvert_exporter": "python",
   "pygments_lexer": "ipython3",
   "version": "3.11.7"
  }
 },
 "nbformat": 4,
 "nbformat_minor": 5
}
